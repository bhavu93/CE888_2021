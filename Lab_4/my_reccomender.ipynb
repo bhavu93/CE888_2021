{
  "nbformat": 4,
  "nbformat_minor": 0,
  "metadata": {
    "colab": {
      "name": "my_reccomender.ipynb",
      "provenance": [],
      "authorship_tag": "ABX9TyOZDhr/bUOCHFh2W1qcPP9r",
      "include_colab_link": true
    },
    "kernelspec": {
      "name": "python3",
      "display_name": "Python 3"
    }
  },
  "cells": [
    {
      "cell_type": "markdown",
      "metadata": {
        "id": "view-in-github",
        "colab_type": "text"
      },
      "source": [
        "<a href=\"https://colab.research.google.com/github/bhavu93/CE888_2021/blob/main/Lab_4/my_reccomender.ipynb\" target=\"_parent\"><img src=\"https://colab.research.google.com/assets/colab-badge.svg\" alt=\"Open In Colab\"/></a>"
      ]
    },
    {
      "cell_type": "code",
      "metadata": {
        "id": "I66KTJ-35kkb"
      },
      "source": [
        "HELLO"
      ],
      "execution_count": null,
      "outputs": []
    }
  ]
}